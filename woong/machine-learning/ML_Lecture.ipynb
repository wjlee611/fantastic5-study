{
 "cells": [
  {
   "cell_type": "markdown",
   "metadata": {},
   "source": [
    "# Machine Learning\n",
    "\n",
    "> Lectured by [Sung Kim](https://www.youtube.com/playlist?list=PLlMkM4tgfjnLSOjrEJN31gZATbcj_MpUm)\n",
    "\n",
    "> Study and wrote by [Woong](https://github.com/wjlee611)\n",
    "\n",
    "`❗️ 아래 강의 정리는 tf v.1 기준으로 작성하고, 다른 파일(예제, 코드)은 tf v.2 기준으로 작성되었습니다 ❗️`\n",
    "\n",
    "---"
   ]
  },
  {
   "cell_type": "markdown",
   "metadata": {},
   "source": [
    "## Goals\n",
    "\n",
    "### Basic understanding of machine learning algorithm\n",
    "- Linear regression, Logistic regression (classification)\n",
    "- Neural networks, Convolutional neural network (CNN), Recurrent neural network (RNN)\n",
    "\n",
    "### Solve your problems using machine learning tools\n",
    "- Tensorflow and Python\n",
    "\n",
    "---"
   ]
  },
  {
   "cell_type": "markdown",
   "metadata": {},
   "source": [
    "## 용어 정리\n",
    "\n",
    "| 용어 | 설명 | 학습 목표? |\n",
    "|---|---|---|\n",
    "| `Supervised Learning` | 지도 학습: 문제와 답, 태그가 붙어있는 training set으로 학습시키는 방법 | ✔ |\n",
    "| `Unsupervised Learning` | 비지도 학습: 문제는 있지만, 답, 태그는 없는 데이터로 스스로 학습하는 방법 | |\n",
    "| `Tensor rank` | 차원 개념. 0(Scalar), 1(Vector), 2(Metrix), 3(3-Tensor), n(n-Tensor) ... | ✔ |\n",
    "| `Tensor shape` | Rank 0: [], Rank 1: [D0], Rank 2: [D0, D1], Rank 3: [D0, D1, D2] ... | ✔ |\n",
    "| `Cost(Loss) function` | 가설-실제 데이터 사이의 차이를 계산하는 함수 (Loss가 작을수록 정확하다는 뜻) | ✔ |\n",
    "\n",
    "\n",
    "\n",
    "### 예시 (보충설명)\n",
    "\n",
    "- `Tensor shape`\n",
    "\n",
    "    a = [[1, 2], [4, 5], [7, 8]], shape of a is [2, 3]\n",
    "\n",
    "- `Cost function`\n",
    "\n",
    "    <img src=\"./images/cost_function_1.png\" width=\"400\" height=\"300\">\n",
    "    <img src=\"./images/cost_function_2.png\" width=\"400\" height=\"300\">\n",
    "\n",
    "---"
   ]
  },
  {
   "cell_type": "markdown",
   "metadata": {},
   "source": [
    "## TensorFlow\n"
   ]
  },
  {
   "cell_type": "code",
   "execution_count": 1,
   "metadata": {},
   "outputs": [
    {
     "name": "stdout",
     "output_type": "stream",
     "text": [
      "WARNING:tensorflow:From /Users/wjlee/opt/anaconda3/envs/py37_ML/lib/python3.7/site-packages/tensorflow_core/python/compat/v2_compat.py:65: disable_resource_variables (from tensorflow.python.ops.variable_scope) is deprecated and will be removed in a future version.\n",
      "Instructions for updating:\n",
      "non-resource variables are not supported in the long term\n",
      "2.0.0\n"
     ]
    }
   ],
   "source": [
    "# tf v.1\n",
    "import tensorflow.compat.v1 as tf\n",
    "tf.disable_v2_behavior()\n",
    "print(tf.__version__)\n",
    "#"
   ]
  },
  {
   "cell_type": "code",
   "execution_count": 2,
   "metadata": {},
   "outputs": [
    {
     "name": "stdout",
     "output_type": "stream",
     "text": [
      "b'Hello, TensorFlow!'\n"
     ]
    },
    {
     "name": "stderr",
     "output_type": "stream",
     "text": [
      "2022-08-03 17:12:33.793968: I tensorflow/core/platform/cpu_feature_guard.cc:145] This TensorFlow binary is optimized with Intel(R) MKL-DNN to use the following CPU instructions in performance critical operations:  SSE4.1 SSE4.2\n",
      "To enable them in non-MKL-DNN operations, rebuild TensorFlow with the appropriate compiler flags.\n",
      "2022-08-03 17:12:33.795151: I tensorflow/core/common_runtime/process_util.cc:115] Creating new thread pool with default inter op setting: 10. Tune using inter_op_parallelism_threads for best performance.\n"
     ]
    }
   ],
   "source": [
    "# This operation is added an a node to the default graph\n",
    "hello = tf.constant(\"Hello, TensorFlow!\")\n",
    "# Start a TF session\n",
    "sess = tf.Session()\n",
    "# Run the operation and get result\n",
    "print(sess.run(hello))\n",
    "#"
   ]
  },
  {
   "cell_type": "code",
   "execution_count": 3,
   "metadata": {},
   "outputs": [
    {
     "name": "stdout",
     "output_type": "stream",
     "text": [
      "Tensor(\"Const_1:0\", shape=(), dtype=float32) + Tensor(\"Const_2:0\", shape=(), dtype=float32) = Tensor(\"Add:0\", shape=(), dtype=float32)\n",
      "3.0 + 4.0 = 7.0\n"
     ]
    }
   ],
   "source": [
    "# Computational Graph\n",
    "node1 = tf.constant(3.0, tf.float32) # 이렇게 데이터 타입을 정의할 수도 있음\n",
    "node2 = tf.constant(4.0)\n",
    "node3 = tf.add(node1, node2)\n",
    "\n",
    "print(node1, '+', node2, '=', node3)\n",
    "print(sess.run(node1), '+', sess.run(node2), '=', sess.run(node3))"
   ]
  },
  {
   "cell_type": "code",
   "execution_count": 4,
   "metadata": {},
   "outputs": [
    {
     "name": "stdout",
     "output_type": "stream",
     "text": [
      "7.5\n",
      "[3. 7.]\n"
     ]
    }
   ],
   "source": [
    "# Placeholder\n",
    "a = tf.placeholder(tf.float32);\n",
    "b = tf.placeholder(tf.float32);\n",
    "adder_node = a + b\n",
    "\n",
    "sess = tf.Session()\n",
    "\n",
    "print(sess.run(adder_node, feed_dict={a: 3, b: 4.5}))\n",
    "print(sess.run(adder_node, feed_dict={a: [1, 3], b: [2, 4]}))\n"
   ]
  },
  {
   "cell_type": "markdown",
   "metadata": {},
   "source": [
    "### Linear regression"
   ]
  },
  {
   "cell_type": "code",
   "execution_count": 5,
   "metadata": {},
   "outputs": [
    {
     "name": "stdout",
     "output_type": "stream",
     "text": [
      "0 3.819194 [0.8038217] [0.20722473]\n",
      "200 0.028672298 [1.1095617] [0.7044475]\n",
      "400 0.0073983157 [1.0556537] [0.89907247]\n",
      "600 0.0019089936 [1.0282702] [0.99793535]\n",
      "800 0.0004925822 [1.0143603] [1.0481544]\n",
      "1000 0.00012710287 [1.0072947] [1.073664]\n",
      "1200 3.279755e-05 [1.0037055] [1.0866219]\n",
      "1400 8.4636795e-06 [1.0018823] [1.0932039]\n",
      "1600 2.1837586e-06 [1.0009562] [1.096548]\n",
      "1800 5.636189e-07 [1.0004859] [1.098246]\n",
      "2000 1.4566831e-07 [1.0002471] [1.0991082]\n",
      "[7.100591]\n"
     ]
    }
   ],
   "source": [
    "w = tf.Variable(tf.random_normal([1]), name='weight') # [1]은 1차원 shape을 의미\n",
    "b = tf.Variable(tf.random_normal([1]), name='bias')\n",
    "x = tf.placeholder(tf.float32, shape=[None])\n",
    "y = tf.placeholder(tf.float32, shape=[None])\n",
    "\n",
    "# hypothesis\n",
    "hypothesis = x * w + b\n",
    "\n",
    "# cost/loss function\n",
    "cost = tf.reduce_mean(tf.square(hypothesis - y))\n",
    "\n",
    "# minimize\n",
    "optimizer = tf.train.GradientDescentOptimizer(learning_rate=0.01)\n",
    "train = optimizer.minimize(cost)\n",
    "\n",
    "# launch the graph in a session\n",
    "sess = tf.Session()\n",
    "# initialize global variables in the graph\n",
    "sess.run(tf.global_variables_initializer())\n",
    "\n",
    "# fit the line\n",
    "for step in range(2001):\n",
    "    cost_val, w_val, b_val, _ = sess.run([cost, w, b, train], feed_dict={x: [1, 2, 3, 4, 5], y: [2.1, 3.1, 4.1, 5.1, 6.1]})\n",
    "    if step % 200 == 0:\n",
    "        print(step, cost_val, w_val, b_val)\n",
    "\n",
    "# testing model\n",
    "print(sess.run(hypothesis, feed_dict={x: [6]}))"
   ]
  },
  {
   "cell_type": "code",
   "execution_count": 6,
   "metadata": {},
   "outputs": [
    {
     "data": {
      "image/png": "[encoded data removed]",
      "text/plain": [
       "<Figure size 432x288 with 1 Axes>"
      ]
     },
     "metadata": {
      "needs_background": "light"
     },
     "output_type": "display_data"
    }
   ],
   "source": [
    "import matplotlib.pyplot as plt\n",
    "X = [1, 2, 3]\n",
    "Y = [1, 2, 3]\n",
    "\n",
    "W = tf.placeholder(tf.float32)\n",
    "# Our hypothesis for linear modle X * W\n",
    "hypothesis = X * W\n",
    "# cost / loss function\n",
    "cost = tf.reduce_mean(tf.square(hypothesis - Y))\n",
    "# Launch the graph in a session\n",
    "sess = tf.Session()\n",
    "# Initialize global variables in the graph\n",
    "sess.run(tf.global_variables_initializer())\n",
    "# Variables for plotting cost function\n",
    "W_val = []\n",
    "cost_val = []\n",
    "for i in range(-30, 50):\n",
    "    feed_W = i * 0.1\n",
    "    curr_cost, curr_W = sess.run([cost, W], feed_dict={W: feed_W})\n",
    "    W_val.append(curr_W)\n",
    "    cost_val.append(curr_cost)\n",
    "\n",
    "# Show the cost function\n",
    "plt.plot(W_val, cost_val)\n",
    "plt.show()"
   ]
  },
  {
   "cell_type": "code",
   "execution_count": 7,
   "metadata": {},
   "outputs": [
    {
     "name": "stdout",
     "output_type": "stream",
     "text": [
      "0 7.6175117 [-0.27762437]\n",
      "1 2.1667588 [0.31860036]\n",
      "2 0.6163226 [0.63658684]\n",
      "3 0.1753095 [0.80617964]\n",
      "4 0.0498658 [0.89662915]\n",
      "5 0.014184058 [0.94486886]\n",
      "6 0.0040345807 [0.97059673]\n",
      "7 0.001147613 [0.98431826]\n",
      "8 0.00032643077 [0.9916364]\n",
      "9 9.2851325e-05 [0.9955394]\n",
      "10 2.6411946e-05 [0.997621]\n",
      "11 7.5125463e-06 [0.9987312]\n",
      "12 2.1370006e-06 [0.9993233]\n",
      "13 6.0780536e-07 [0.9996391]\n",
      "14 1.7288636e-07 [0.99980754]\n",
      "15 4.9186898e-08 [0.99989736]\n",
      "16 1.3958759e-08 [0.9999453]\n",
      "17 3.9876653e-09 [0.9999708]\n",
      "18 1.1312563e-09 [0.99998444]\n",
      "19 3.1934277e-10 [0.9999917]\n",
      "20 9.1844754e-11 [0.9999956]\n"
     ]
    }
   ],
   "source": [
    "x_data = [1, 2, 3]\n",
    "y_data = [1, 2, 3]\n",
    "\n",
    "W = tf.Variable(tf.random_normal([1]), name=\"weight\")\n",
    "X = tf.placeholder(tf.float32)\n",
    "Y = tf.placeholder(tf.float32)\n",
    "\n",
    "# Our hypothesis for linear model X * W\n",
    "hypothesis = X * W\n",
    "\n",
    "# cost/loss function\n",
    "cost = tf.reduce_mean(tf.square(hypothesis - Y))\n",
    "\n",
    "# Minimize: Gradient Descent using derivative: W -= learning_rate * derivative\n",
    "learning_rate = 0.1\n",
    "gradient = tf.reduce_mean((W * X - Y) * X)\n",
    "descent = W - learning_rate * gradient\n",
    "update = W.assign(descent)\n",
    "\n",
    "# Launch the graph in a session.\n",
    "sess = tf.Session()\n",
    "# Initializes global variables in the graph.\n",
    "sess.run(tf.global_variables_initializer())\n",
    "\n",
    "for step in range(21):\n",
    "    sess.run(update, feed_dict={X: x_data, Y: y_data})\n",
    "    print(step, sess.run(cost, feed_dict={X: x_data, Y: y_data}), sess.run(W))"
   ]
  },
  {
   "cell_type": "code",
   "execution_count": 8,
   "metadata": {},
   "outputs": [
    {
     "name": "stdout",
     "output_type": "stream",
     "text": [
      "0 4.6266665\n",
      "10 2.361395\n",
      "20 1.5110468\n",
      "30 1.1918392\n",
      "40 1.0720135\n",
      "50 1.0270327\n",
      "60 1.0101477\n",
      "70 1.0038093\n",
      "80 1.00143\n",
      "90 1.0005368\n",
      "100 1.0002015\n"
     ]
    }
   ],
   "source": [
    "# tf Graph Input\n",
    "X = [1, 2, 3]\n",
    "Y = [1, 2, 3]\n",
    "\n",
    "# Set wrong model weights\n",
    "W = tf.Variable(5.)\n",
    "\n",
    "# Linear model\n",
    "hypothesis = X * W\n",
    "# cost/loss function\n",
    "cost = tf.reduce_mean(tf.square(hypothesis - Y))\n",
    "# Minimize: Gradient Descent Optimizer\n",
    "optimizer = tf.train.GradientDescentOptimizer(learning_rate=0.01)\n",
    "train = optimizer.minimize(cost)\n",
    "\n",
    "# Launch the graph in a session.\n",
    "sess = tf.Session()\n",
    "# Initializes global variables in the graph.\n",
    "sess.run(tf.global_variables_initializer())\n",
    "\n",
    "for step in range(101):\n",
    "    sess.run(train)\n",
    "    if step%10==0:\n",
    "        print(step, sess.run(W))"
   ]
  },
  {
   "cell_type": "markdown",
   "metadata": {},
   "source": [
    "### Linear regression (Multi variables)"
   ]
  },
  {
   "cell_type": "code",
   "execution_count": 9,
   "metadata": {},
   "outputs": [
    {
     "name": "stdout",
     "output_type": "stream",
     "text": [
      "0 Cost:  15048.322 \n",
      "Prediction:\n",
      " [39.74805 55.92739 51.05155 54.36862 45.59346]\n",
      "200 Cost:  4.9991026 \n",
      "Prediction:\n",
      " [148.74593 186.61111 179.98448 194.75804 145.20439]\n",
      "400 Cost:  4.5178742 \n",
      "Prediction:\n",
      " [148.90807 186.4996  180.03369 194.7973  145.05498]\n",
      "600 Cost:  4.085925 \n",
      "Prediction:\n",
      " [149.06155 186.39398 180.08023 194.83461 144.91331]\n",
      "800 Cost:  3.6982224 \n",
      "Prediction:\n",
      " [149.2069  186.294   180.1243  194.87012 144.77905]\n",
      "1000 Cost:  3.3501983 \n",
      "Prediction:\n",
      " [149.34448 186.19933 180.16599 194.9039  144.65176]\n",
      "1200 Cost:  3.0378096 \n",
      "Prediction:\n",
      " [149.47473 186.10968 180.20543 194.93604 144.5311 ]\n",
      "1400 Cost:  2.7574146 \n",
      "Prediction:\n",
      " [149.59802 186.0248  180.24275 194.9666  144.41672]\n",
      "1600 Cost:  2.5056825 \n",
      "Prediction:\n",
      " [149.71472 185.94443 180.27803 194.99567 144.30824]\n",
      "1800 Cost:  2.2796786 \n",
      "Prediction:\n",
      " [149.82518 185.86832 180.3114  195.02336 144.2054 ]\n",
      "2000 Cost:  2.0767841 \n",
      "Prediction:\n",
      " [149.92976 185.79628 180.343   195.04971 144.10791]\n"
     ]
    }
   ],
   "source": [
    "x1_data = [73., 93., 89., 96., 73.]\n",
    "x2_data = [80., 88., 91., 98., 66.]\n",
    "x3_data = [75., 93., 90., 100., 70.]\n",
    "\n",
    "y_data = [152., 185., 180., 196., 142.]\n",
    "\n",
    "# placeholders for a tensor that will be always fed.\n",
    "x1 = tf.placeholder(tf.float32)\n",
    "x2 = tf.placeholder(tf.float32)\n",
    "x3 = tf.placeholder(tf.float32)\n",
    "\n",
    "Y = tf.placeholder(tf.float32)\n",
    "\n",
    "w1 = tf.Variable(tf.random_normal([1]), name='weight1')\n",
    "w2 = tf.Variable(tf.random_normal([1]), name='weight2')\n",
    "w3 = tf.Variable(tf.random_normal([1]), name='weight3')\n",
    "b = tf.Variable(tf.random_normal([1]), name='bias')\n",
    "\n",
    "hypothesis = x1 * w1 + x2 * w2 + x3 * w3 + b\n",
    "\n",
    "# cost/loss function\n",
    "cost = tf.reduce_mean(tf.square(hypothesis - Y))\n",
    "\n",
    "# Minimize. Need a very small learning rate for this data set\n",
    "optimizer = tf.train.GradientDescentOptimizer(learning_rate=1e-5)\n",
    "train = optimizer.minimize(cost)\n",
    "\n",
    "# Launch the graph in a session.\n",
    "sess = tf.Session()\n",
    "# Initializes global variables in the graph.\n",
    "sess.run(tf.global_variables_initializer())\n",
    "\n",
    "for step in range(2001):\n",
    "    cost_val, hy_val, _ = sess.run([cost, hypothesis, train],\n",
    "                                   feed_dict={x1: x1_data, x2: x2_data, x3: x3_data, Y: y_data})\n",
    "    if step % 200 == 0:\n",
    "        print(step, \"Cost: \", cost_val, \"\\nPrediction:\\n\", hy_val)\n"
   ]
  },
  {
   "cell_type": "code",
   "execution_count": 10,
   "metadata": {},
   "outputs": [
    {
     "name": "stdout",
     "output_type": "stream",
     "text": [
      "0 Cost:  112149.81 \n",
      "Prediction:\n",
      " [[-139.94304]\n",
      " [-176.13423]\n",
      " [-169.18985]\n",
      " [-188.05843]\n",
      " [-133.07443]]\n",
      "200 Cost:  10.588264 \n",
      "Prediction:\n",
      " [[156.9435 ]\n",
      " [181.16125]\n",
      " [182.61923]\n",
      " [195.09247]\n",
      " [139.53358]]\n",
      "400 Cost:  9.65724 \n",
      "Prediction:\n",
      " [[156.71178]\n",
      " [181.31892]\n",
      " [182.54674]\n",
      " [195.05165]\n",
      " [139.73068]]\n",
      "600 Cost:  8.820459 \n",
      "Prediction:\n",
      " [[156.49203]\n",
      " [181.46841]\n",
      " [182.4779 ]\n",
      " [195.01349]\n",
      " [139.91707]]\n",
      "800 Cost:  8.068358 \n",
      "Prediction:\n",
      " [[156.28363]\n",
      " [181.6101 ]\n",
      " [182.41255]\n",
      " [194.97775]\n",
      " [140.09329]]\n",
      "1000 Cost:  7.392114 \n",
      "Prediction:\n",
      " [[156.08594]\n",
      " [181.74446]\n",
      " [182.35051]\n",
      " [194.94434]\n",
      " [140.25993]]\n",
      "1200 Cost:  6.7840395 \n",
      "Prediction:\n",
      " [[155.89845]\n",
      " [181.87186]\n",
      " [182.29156]\n",
      " [194.91315]\n",
      " [140.41745]]\n",
      "1400 Cost:  6.237186 \n",
      "Prediction:\n",
      " [[155.7206 ]\n",
      " [181.9926 ]\n",
      " [182.2356 ]\n",
      " [194.88403]\n",
      " [140.56635]]\n",
      "1600 Cost:  5.745182 \n",
      "Prediction:\n",
      " [[155.5519 ]\n",
      " [182.10713]\n",
      " [182.18243]\n",
      " [194.85692]\n",
      " [140.70709]]\n",
      "1800 Cost:  5.3024397 \n",
      "Prediction:\n",
      " [[155.39183]\n",
      " [182.21573]\n",
      " [182.13193]\n",
      " [194.83165]\n",
      " [140.8401 ]]\n",
      "2000 Cost:  4.903896 \n",
      "Prediction:\n",
      " [[155.23994]\n",
      " [182.31871]\n",
      " [182.08394]\n",
      " [194.80815]\n",
      " [140.96577]]\n"
     ]
    }
   ],
   "source": [
    "x_data = [[73., 80., 75.],\n",
    "          [93., 88., 93.],\n",
    "          [89., 91., 90.],\n",
    "          [96., 98., 100.],\n",
    "          [73., 66., 70.]]\n",
    "y_data = [[152.],\n",
    "          [185.],\n",
    "          [180.],\n",
    "          [196.],\n",
    "          [142.]]\n",
    "\n",
    "\n",
    "# placeholders for a tensor that will be always fed.\n",
    "X = tf.placeholder(tf.float32, shape=[None, 3])\n",
    "Y = tf.placeholder(tf.float32, shape=[None, 1])\n",
    "\n",
    "W = tf.Variable(tf.random_normal([3, 1]), name='weight')\n",
    "b = tf.Variable(tf.random_normal([1]), name='bias')\n",
    "\n",
    "# Hypothesis\n",
    "hypothesis = tf.matmul(X, W) + b\n",
    "\n",
    "# Simplified cost/loss function\n",
    "cost = tf.reduce_mean(tf.square(hypothesis - Y))\n",
    "\n",
    "# Minimize\n",
    "optimizer = tf.train.GradientDescentOptimizer(learning_rate=1e-5)\n",
    "train = optimizer.minimize(cost)\n",
    "\n",
    "# Launch the graph in a session.\n",
    "sess = tf.Session()\n",
    "# Initializes global variables in the graph.\n",
    "sess.run(tf.global_variables_initializer())\n",
    "\n",
    "for step in range(2001):\n",
    "    cost_val, hy_val, _ = sess.run(\n",
    "        [cost, hypothesis, train], feed_dict={X: x_data, Y: y_data})\n",
    "    if step % 200 == 0:\n",
    "        print(step, \"Cost: \", cost_val, \"\\nPrediction:\\n\", hy_val)"
   ]
  },
  {
   "cell_type": "markdown",
   "metadata": {},
   "source": [
    "### Logistic Classification"
   ]
  },
  {
   "cell_type": "code",
   "execution_count": 11,
   "metadata": {},
   "outputs": [
    {
     "name": "stdout",
     "output_type": "stream",
     "text": [
      "0 3.6702502\n",
      "1000 0.44007078\n",
      "2000 0.37150264\n",
      "3000 0.31854612\n",
      "4000 0.2771282\n",
      "5000 0.24438341\n",
      "6000 0.21812832\n",
      "7000 0.19675563\n",
      "8000 0.17909874\n",
      "9000 0.16430919\n",
      "10000 0.15176491\n",
      "\n",
      "Hypothesis:  [[0.03170055]\n",
      " [0.16012755]\n",
      " [0.30943146]\n",
      " [0.77930576]\n",
      " [0.938259  ]\n",
      " [0.9797284 ]] \n",
      "Correct (Y):  [[0.]\n",
      " [0.]\n",
      " [0.]\n",
      " [1.]\n",
      " [1.]\n",
      " [1.]] \n",
      "Accuracy:  1.0\n"
     ]
    }
   ],
   "source": [
    "tf.set_random_seed(777)  # for reproducibility\n",
    "\n",
    "x_data = [[1, 2],\n",
    "          [2, 3],\n",
    "          [3, 1],\n",
    "          [4, 3],\n",
    "          [5, 3],\n",
    "          [6, 2]]\n",
    "y_data = [[0],\n",
    "          [0],\n",
    "          [0],\n",
    "          [1],\n",
    "          [1],\n",
    "          [1]]\n",
    "\n",
    "# placeholders for a tensor that will be always fed.\n",
    "X = tf.placeholder(tf.float32, shape=[None, 2])\n",
    "Y = tf.placeholder(tf.float32, shape=[None, 1])\n",
    "\n",
    "W = tf.Variable(tf.random_normal([2, 1]), name='weight')\n",
    "b = tf.Variable(tf.random_normal([1]), name='bias')\n",
    "\n",
    "# Hypothesis using sigmoid: tf.div(1., 1. + tf.exp(tf.matmul(X, W)))\n",
    "hypothesis = tf.sigmoid(tf.matmul(X, W) + b)\n",
    "\n",
    "# cost/loss function\n",
    "cost = -tf.reduce_mean(Y * tf.log(hypothesis) + (1 - Y) *\n",
    "                       tf.log(1 - hypothesis))\n",
    "\n",
    "train = tf.train.GradientDescentOptimizer(learning_rate=0.01).minimize(cost)\n",
    "\n",
    "# Accuracy computation\n",
    "# True if hypothesis>0.5 else False\n",
    "predicted = tf.cast(hypothesis > 0.5, dtype=tf.float32)\n",
    "accuracy = tf.reduce_mean(tf.cast(tf.equal(predicted, Y), dtype=tf.float32))\n",
    "\n",
    "# Launch graph\n",
    "with tf.Session() as sess:\n",
    "    # Initialize TensorFlow variables\n",
    "    sess.run(tf.global_variables_initializer())\n",
    "\n",
    "    for step in range(10001):\n",
    "        cost_val, _ = sess.run([cost, train], feed_dict={X: x_data, Y: y_data})\n",
    "        if step % 1000 == 0:\n",
    "            print(step, cost_val)\n",
    "\n",
    "    # Accuracy report\n",
    "    h, c, a = sess.run([hypothesis, predicted, accuracy],\n",
    "                       feed_dict={X: x_data, Y: y_data})\n",
    "    print(\"\\nHypothesis: \", h, \"\\nCorrect (Y): \", c, \"\\nAccuracy: \", a)"
   ]
  },
  {
   "cell_type": "markdown",
   "metadata": {},
   "source": [
    "### Softmax Classification"
   ]
  },
  {
   "cell_type": "code",
   "execution_count": 12,
   "metadata": {},
   "outputs": [
    {
     "name": "stdout",
     "output_type": "stream",
     "text": [
      "0 6.655311\n",
      "200 0.51613605\n",
      "400 0.41411433\n",
      "600 0.33548403\n",
      "800 0.261424\n",
      "1000 0.22929847\n",
      "1200 0.20794082\n",
      "1400 0.19019827\n",
      "1600 0.17519727\n",
      "1800 0.16234054\n",
      "2000 0.15119883\n",
      "--------------\n",
      "[[5.2269711e-03 9.9476296e-01 1.0060972e-05]] [1]\n",
      "--------------\n",
      "[[0.8495701  0.13347329 0.01695666]] [0]\n",
      "--------------\n",
      "[[9.1505070e-09 3.3496637e-04 9.9966502e-01]] [2]\n",
      "--------------\n",
      "[[5.2269711e-03 9.9476296e-01 1.0060972e-05]\n",
      " [8.4957010e-01 1.3347329e-01 1.6956661e-02]\n",
      " [9.1505070e-09 3.3496637e-04 9.9966502e-01]] [1 0 2]\n"
     ]
    }
   ],
   "source": [
    "tf.set_random_seed(777)  # for reproducibility\n",
    "\n",
    "x_data = [[1, 2, 1, 1],\n",
    "          [2, 1, 3, 2],\n",
    "          [3, 1, 3, 4],\n",
    "          [4, 1, 5, 5],\n",
    "          [1, 7, 5, 5],\n",
    "          [1, 2, 5, 6],\n",
    "          [1, 6, 6, 6],\n",
    "          [1, 7, 7, 7]]\n",
    "y_data = [[0, 0, 1],\n",
    "          [0, 0, 1],\n",
    "          [0, 0, 1],\n",
    "          [0, 1, 0],\n",
    "          [0, 1, 0],\n",
    "          [0, 1, 0],\n",
    "          [1, 0, 0],\n",
    "          [1, 0, 0]]\n",
    "\n",
    "X = tf.placeholder(\"float\", [None, 4])\n",
    "Y = tf.placeholder(\"float\", [None, 3])\n",
    "nb_classes = 3\n",
    "\n",
    "W = tf.Variable(tf.random_normal([4, nb_classes]), name='weight')\n",
    "b = tf.Variable(tf.random_normal([nb_classes]), name='bias')\n",
    "\n",
    "# tf.nn.softmax computes softmax activations\n",
    "# softmax = exp(logits) / reduce_sum(exp(logits), dim)\n",
    "hypothesis = tf.nn.softmax(tf.matmul(X, W) + b)\n",
    "\n",
    "# Cross entropy cost/loss\n",
    "cost = tf.reduce_mean(-tf.reduce_sum(Y * tf.log(hypothesis), axis=1))\n",
    "\n",
    "optimizer = tf.train.GradientDescentOptimizer(learning_rate=0.1).minimize(cost)\n",
    "\n",
    "# Launch graph\n",
    "with tf.Session() as sess:\n",
    "    sess.run(tf.global_variables_initializer())\n",
    "\n",
    "    for step in range(2001):\n",
    "            _, cost_val = sess.run([optimizer, cost], feed_dict={X: x_data, Y: y_data})\n",
    "\n",
    "            if step % 200 == 0:\n",
    "                print(step, cost_val)\n",
    "\n",
    "    print('--------------')\n",
    "    # Testing & One-hot encoding\n",
    "    a = sess.run(hypothesis, feed_dict={X: [[1, 11, 7, 9]]})\n",
    "    print(a, sess.run(tf.argmax(a, 1)))\n",
    "\n",
    "    print('--------------')\n",
    "    b = sess.run(hypothesis, feed_dict={X: [[1, 3, 4, 3]]})\n",
    "    print(b, sess.run(tf.argmax(b, 1)))\n",
    "\n",
    "    print('--------------')\n",
    "    c = sess.run(hypothesis, feed_dict={X: [[1, 1, 0, 1]]})\n",
    "    print(c, sess.run(tf.argmax(c, 1)))\n",
    "\n",
    "    print('--------------')\n",
    "    all = sess.run(hypothesis, feed_dict={X: [[1, 11, 7, 9], [1, 3, 4, 3], [1, 1, 0, 1]]})\n",
    "    print(all, sess.run(tf.argmax(all, 1)))"
   ]
  }
 ],
 "metadata": {
  "kernelspec": {
   "display_name": "Python 3.7.11 ('py37_ML')",
   "language": "python",
   "name": "python3"
  },
  "language_info": {
   "codemirror_mode": {
    "name": "ipython",
    "version": 3
   },
   "file_extension": ".py",
   "mimetype": "text/x-python",
   "name": "python",
   "nbconvert_exporter": "python",
   "pygments_lexer": "ipython3",
   "version": "3.7.11"
  },
  "orig_nbformat": 4,
  "vscode": {
   "interpreter": {
    "hash": "08126dd0a5844298dee99d60528949c8812db41a2dddab4a2d4ba34fd01b96ed"
   }
  }
 },
 "nbformat": 4,
 "nbformat_minor": 2
}
